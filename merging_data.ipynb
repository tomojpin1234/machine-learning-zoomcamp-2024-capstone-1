{
 "cells": [
  {
   "cell_type": "markdown",
   "metadata": {},
   "source": [
    "Data\n",
    "-------------\n",
    "\n",
    "This notebook will merge all the csv files from [Social Media Data](https://www.kaggle.com/datasets/grelade/wykop-data-2022) into one which later will be used for training and predictions."
   ]
  },
  {
   "cell_type": "markdown",
   "metadata": {},
   "source": [
    "Download all csv files from https://www.kaggle.com/datasets/grelade/wykop-data-2022 to a local folder `data`"
   ]
  },
  {
   "cell_type": "code",
   "execution_count": 1,
   "metadata": {},
   "outputs": [],
   "source": [
    "import pandas as pd"
   ]
  },
  {
   "cell_type": "code",
   "execution_count": 2,
   "metadata": {},
   "outputs": [],
   "source": [
    "# Load all datasets\n",
    "data_path = \"data/\"\n",
    "\n",
    "df_tags = pd.read_csv(data_path + \"df_tags.csv\")\n",
    "df_links = pd.read_csv(data_path + \"df_links.csv\")\n",
    "df_tags_of_links = pd.read_csv(data_path + \"df_tags_of_links.csv\")\n",
    "df_users = pd.read_csv(data_path + \"df_users.csv\")\n",
    "df_votes = pd.read_csv(data_path + \"df_votes.csv\")"
   ]
  },
  {
   "cell_type": "code",
   "execution_count": 3,
   "metadata": {},
   "outputs": [],
   "source": [
    "df_tags_of_links = df_tags_of_links.merge(df_tags, on=\"tag_id\", how=\"left\")"
   ]
  },
  {
   "cell_type": "code",
   "execution_count": 4,
   "metadata": {},
   "outputs": [],
   "source": [
    "df_tags_grouped = df_tags_of_links.groupby(\"link_id\")[\"name\"].apply(list).reset_index()\n",
    "df_links = df_links.merge(df_tags_grouped, on=\"link_id\", how=\"left\")\n",
    "df_links.rename(columns={\"name\": \"tags\"}, inplace=True)"
   ]
  },
  {
   "cell_type": "code",
   "execution_count": 5,
   "metadata": {},
   "outputs": [],
   "source": [
    "df_votes_summary = df_votes.groupby(\"link_id\")[\"vote_type\"].value_counts().unstack(fill_value=0).reset_index()\n",
    "df_votes_summary.rename(columns={1: \"upvotes\", -1: \"downvotes\"}, inplace=True)\n",
    "\n",
    "df_links = df_links.merge(df_votes_summary, on=\"link_id\", how=\"left\")"
   ]
  },
  {
   "cell_type": "code",
   "execution_count": 6,
   "metadata": {},
   "outputs": [],
   "source": [
    "df_votes = df_votes.merge(df_users, left_on=\"voter_user_id\", right_on=\"user_id\", how=\"left\")"
   ]
  },
  {
   "cell_type": "code",
   "execution_count": 7,
   "metadata": {},
   "outputs": [],
   "source": [
    "df_links.to_csv(data_path + \"processed_links.csv\", index=False)"
   ]
  },
  {
   "cell_type": "markdown",
   "metadata": {},
   "source": [
    "Test if file was created"
   ]
  },
  {
   "cell_type": "code",
   "execution_count": 8,
   "metadata": {},
   "outputs": [
    {
     "name": "stderr",
     "output_type": "stream",
     "text": [
      "/var/folders/wq/xxr4ff9s1hg945mqypn203yskzqq0j/T/ipykernel_13523/1505100893.py:1: DtypeWarning: Columns (17) have mixed types. Specify dtype option on import or set low_memory=False.\n",
      "  df = pd.read_csv(data_path + \"processed_links.csv\")\n"
     ]
    },
    {
     "data": {
      "text/html": [
       "<div>\n",
       "<style scoped>\n",
       "    .dataframe tbody tr th:only-of-type {\n",
       "        vertical-align: middle;\n",
       "    }\n",
       "\n",
       "    .dataframe tbody tr th {\n",
       "        vertical-align: top;\n",
       "    }\n",
       "\n",
       "    .dataframe thead th {\n",
       "        text-align: right;\n",
       "    }\n",
       "</style>\n",
       "<table border=\"1\" class=\"dataframe\">\n",
       "  <thead>\n",
       "    <tr style=\"text-align: right;\">\n",
       "      <th></th>\n",
       "      <th>Unnamed: 0</th>\n",
       "      <th>link_id</th>\n",
       "      <th>title</th>\n",
       "      <th>description</th>\n",
       "      <th>source_url</th>\n",
       "      <th>upvote_count</th>\n",
       "      <th>downvote_count</th>\n",
       "      <th>comments_count</th>\n",
       "      <th>related_count</th>\n",
       "      <th>creation_date</th>\n",
       "      <th>author_user_id</th>\n",
       "      <th>plus18</th>\n",
       "      <th>status</th>\n",
       "      <th>can_vote</th>\n",
       "      <th>is_hot</th>\n",
       "      <th>info</th>\n",
       "      <th>archived</th>\n",
       "      <th>tags</th>\n",
       "      <th>downvotes</th>\n",
       "      <th>upvotes</th>\n",
       "    </tr>\n",
       "  </thead>\n",
       "  <tbody>\n",
       "    <tr>\n",
       "      <th>0</th>\n",
       "      <td>0</td>\n",
       "      <td>6697485</td>\n",
       "      <td>Ignatius - nasza gra ma dzisiaj premierę na ni...</td>\n",
       "      <td>Ignatius to nastrojowa gra logiczno-platformow...</td>\n",
       "      <td>https://www.nintendo.com/store/products/ignati...</td>\n",
       "      <td>37</td>\n",
       "      <td>1</td>\n",
       "      <td>5</td>\n",
       "      <td>1</td>\n",
       "      <td>2022-06-10 18:44:31</td>\n",
       "      <td>86627</td>\n",
       "      <td>False</td>\n",
       "      <td>outdated</td>\n",
       "      <td>True</td>\n",
       "      <td>False</td>\n",
       "      <td>NaN</td>\n",
       "      <td>False</td>\n",
       "      <td>['rozrywka', 'konsole', 'switch', 'nintendoswi...</td>\n",
       "      <td>NaN</td>\n",
       "      <td>NaN</td>\n",
       "    </tr>\n",
       "    <tr>\n",
       "      <th>1</th>\n",
       "      <td>1</td>\n",
       "      <td>6667641</td>\n",
       "      <td>Panika Pokémon - masowa histeria, atak padaczk...</td>\n",
       "      <td>Panika Pokémon, czyli dlaczego setki dzieci w ...</td>\n",
       "      <td>https://absurdusy.blogspot.com/2022/05/panika-...</td>\n",
       "      <td>14</td>\n",
       "      <td>0</td>\n",
       "      <td>4</td>\n",
       "      <td>0</td>\n",
       "      <td>2022-05-20 22:15:01</td>\n",
       "      <td>58441</td>\n",
       "      <td>False</td>\n",
       "      <td>outdated</td>\n",
       "      <td>True</td>\n",
       "      <td>False</td>\n",
       "      <td>NaN</td>\n",
       "      <td>False</td>\n",
       "      <td>['swiat', 'pokemongo', 'ciekawostki', 'anime',...</td>\n",
       "      <td>0.0</td>\n",
       "      <td>14.0</td>\n",
       "    </tr>\n",
       "    <tr>\n",
       "      <th>2</th>\n",
       "      <td>2</td>\n",
       "      <td>6666053</td>\n",
       "      <td>Oko w oko z Game Boy Camera [ARN.EU]</td>\n",
       "      <td>Aparat fotograficzny jako akcesorium do Game B...</td>\n",
       "      <td>http://www.youtube.com/watch?v=ZKE3DrtTWF0</td>\n",
       "      <td>15</td>\n",
       "      <td>5</td>\n",
       "      <td>1</td>\n",
       "      <td>1</td>\n",
       "      <td>2022-05-19 21:16:05</td>\n",
       "      <td>22595</td>\n",
       "      <td>False</td>\n",
       "      <td>outdated</td>\n",
       "      <td>True</td>\n",
       "      <td>False</td>\n",
       "      <td>NaN</td>\n",
       "      <td>False</td>\n",
       "      <td>['arhneu', 'konsole', 'retrogaming', 'ciekawos...</td>\n",
       "      <td>5.0</td>\n",
       "      <td>15.0</td>\n",
       "    </tr>\n",
       "    <tr>\n",
       "      <th>3</th>\n",
       "      <td>3</td>\n",
       "      <td>6614917</td>\n",
       "      <td>Rekonstrukcja starego Game Boya</td>\n",
       "      <td>Zakupiony na eBayu i przywrócony do stanu fabr...</td>\n",
       "      <td>http://www.youtube.com/watch?v=iUrolFnAUcc</td>\n",
       "      <td>6</td>\n",
       "      <td>3</td>\n",
       "      <td>0</td>\n",
       "      <td>0</td>\n",
       "      <td>2022-04-14 01:23:41</td>\n",
       "      <td>6491</td>\n",
       "      <td>False</td>\n",
       "      <td>outdated</td>\n",
       "      <td>True</td>\n",
       "      <td>False</td>\n",
       "      <td>NaN</td>\n",
       "      <td>False</td>\n",
       "      <td>['technologia', 'ciekawostki', 'gry', 'gameboy...</td>\n",
       "      <td>3.0</td>\n",
       "      <td>6.0</td>\n",
       "    </tr>\n",
       "    <tr>\n",
       "      <th>4</th>\n",
       "      <td>4</td>\n",
       "      <td>6608459</td>\n",
       "      <td>Wyszedł remake THE HOUSE OF THE DEAD na Switcha.</td>\n",
       "      <td>Rail shooter, klasyk z automatu. To co można b...</td>\n",
       "      <td>https://www.nintendo.co.uk/Games/Nintendo-Swit...</td>\n",
       "      <td>8</td>\n",
       "      <td>4</td>\n",
       "      <td>14</td>\n",
       "      <td>4</td>\n",
       "      <td>2022-04-09 18:30:50</td>\n",
       "      <td>65137</td>\n",
       "      <td>False</td>\n",
       "      <td>outdated</td>\n",
       "      <td>True</td>\n",
       "      <td>False</td>\n",
       "      <td>NaN</td>\n",
       "      <td>False</td>\n",
       "      <td>['technologia', 'rozrywka', 'konsole', 'ninten...</td>\n",
       "      <td>NaN</td>\n",
       "      <td>NaN</td>\n",
       "    </tr>\n",
       "  </tbody>\n",
       "</table>\n",
       "</div>"
      ],
      "text/plain": [
       "   Unnamed: 0  link_id                                              title  \\\n",
       "0           0  6697485  Ignatius - nasza gra ma dzisiaj premierę na ni...   \n",
       "1           1  6667641  Panika Pokémon - masowa histeria, atak padaczk...   \n",
       "2           2  6666053               Oko w oko z Game Boy Camera [ARN.EU]   \n",
       "3           3  6614917                    Rekonstrukcja starego Game Boya   \n",
       "4           4  6608459   Wyszedł remake THE HOUSE OF THE DEAD na Switcha.   \n",
       "\n",
       "                                         description  \\\n",
       "0  Ignatius to nastrojowa gra logiczno-platformow...   \n",
       "1  Panika Pokémon, czyli dlaczego setki dzieci w ...   \n",
       "2  Aparat fotograficzny jako akcesorium do Game B...   \n",
       "3  Zakupiony na eBayu i przywrócony do stanu fabr...   \n",
       "4  Rail shooter, klasyk z automatu. To co można b...   \n",
       "\n",
       "                                          source_url  upvote_count  \\\n",
       "0  https://www.nintendo.com/store/products/ignati...            37   \n",
       "1  https://absurdusy.blogspot.com/2022/05/panika-...            14   \n",
       "2         http://www.youtube.com/watch?v=ZKE3DrtTWF0            15   \n",
       "3         http://www.youtube.com/watch?v=iUrolFnAUcc             6   \n",
       "4  https://www.nintendo.co.uk/Games/Nintendo-Swit...             8   \n",
       "\n",
       "   downvote_count  comments_count  related_count        creation_date  \\\n",
       "0               1               5              1  2022-06-10 18:44:31   \n",
       "1               0               4              0  2022-05-20 22:15:01   \n",
       "2               5               1              1  2022-05-19 21:16:05   \n",
       "3               3               0              0  2022-04-14 01:23:41   \n",
       "4               4              14              4  2022-04-09 18:30:50   \n",
       "\n",
       "   author_user_id  plus18    status  can_vote  is_hot info  archived  \\\n",
       "0           86627   False  outdated      True   False  NaN     False   \n",
       "1           58441   False  outdated      True   False  NaN     False   \n",
       "2           22595   False  outdated      True   False  NaN     False   \n",
       "3            6491   False  outdated      True   False  NaN     False   \n",
       "4           65137   False  outdated      True   False  NaN     False   \n",
       "\n",
       "                                                tags  downvotes  upvotes  \n",
       "0  ['rozrywka', 'konsole', 'switch', 'nintendoswi...        NaN      NaN  \n",
       "1  ['swiat', 'pokemongo', 'ciekawostki', 'anime',...        0.0     14.0  \n",
       "2  ['arhneu', 'konsole', 'retrogaming', 'ciekawos...        5.0     15.0  \n",
       "3  ['technologia', 'ciekawostki', 'gry', 'gameboy...        3.0      6.0  \n",
       "4  ['technologia', 'rozrywka', 'konsole', 'ninten...        NaN      NaN  "
      ]
     },
     "execution_count": 8,
     "metadata": {},
     "output_type": "execute_result"
    }
   ],
   "source": [
    "df = pd.read_csv(data_path + \"processed_links.csv\")\n",
    "df.head()"
   ]
  },
  {
   "cell_type": "markdown",
   "metadata": {},
   "source": [
    "## Now you can go to `notebook.ipynb`"
   ]
  }
 ],
 "metadata": {
  "kernelspec": {
   "display_name": "ML-Zoomcamp-2024-Capstone-1-Kernel-Poetry",
   "language": "python",
   "name": "machine-learning-zoomcamp-2024-capstone-1"
  },
  "language_info": {
   "codemirror_mode": {
    "name": "ipython",
    "version": 3
   },
   "file_extension": ".py",
   "mimetype": "text/x-python",
   "name": "python",
   "nbconvert_exporter": "python",
   "pygments_lexer": "ipython3",
   "version": "3.13.0"
  }
 },
 "nbformat": 4,
 "nbformat_minor": 2
}
